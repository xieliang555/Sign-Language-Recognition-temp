{
 "cells": [
  {
   "cell_type": "code",
   "execution_count": 8,
   "metadata": {},
   "outputs": [],
   "source": [
    "from skimage import io\n",
    "import glob\n",
    "import pandas as pd\n",
    "\n",
    "import utils\n",
    "import numpy as np"
   ]
  },
  {
   "cell_type": "code",
   "execution_count": 10,
   "metadata": {},
   "outputs": [
    {
     "name": "stdout",
     "output_type": "stream",
     "text": [
      "<class 'str'>\n",
      "ICH OSTERN WETTER ZUFRIEDEN MITTAG TEMPERATUR  SUED WARM MEIN NICHT\n"
     ]
    }
   ],
   "source": [
    "dir = '/mnt/data/public/datasets/phoenix2014-release/phoenix-2014-multisigner/annotations/manual/dev.corpus.csv'\n",
    "\n",
    "\n",
    "ann = pd.read_csv(dir)\n",
    "data = (ann.iloc[0,0].split('|')[3])\n",
    "print(type(data))\n",
    "print(data)\n",
    "\n"
   ]
  },
  {
   "cell_type": "code",
   "execution_count": 9,
   "metadata": {},
   "outputs": [
    {
     "name": "stdout",
     "output_type": "stream",
     "text": [
      "[0.5 1.  1.5 2. ]\n"
     ]
    }
   ],
   "source": [
    "a = np.array([1,2,3,4])\n",
    "print(a / 2.0)"
   ]
  },
  {
   "cell_type": "code",
   "execution_count": 2,
   "metadata": {},
   "outputs": [],
   "source": [
    "from collections import Counter"
   ]
  },
  {
   "cell_type": "code",
   "execution_count": 17,
   "metadata": {},
   "outputs": [
    {
     "name": "stdout",
     "output_type": "stream",
     "text": [
      "['__ON__', 'LIEB', 'ZUSCHAUER', 'ABEND', 'WINTER', 'GESTERN', 'loc-NORD', 'SCHOTTLAND', 'loc-REGION', 'UEBERSCHWEMMUNG', 'AMERIKA', 'IX', 'loc-WEST', 'WARM', 'loc-WEST', 'BLEIBEN', 'KUEHL', 'KUEHL', 'KUEHL', 'IN-KOMMEND', 'NACHT', 'MINUS', 'loc-MINUS-PLUSPLUS', 'TEIL', 'MINUS', 'FUENF', 'ALPEN', 'KUESTE', 'NULL', 'MORGEN', 'TEMPERATUR', 'ACHT', 'BIS', 'DREIZEHN', 'MAXIMAL', 'DREIZEHN', 'AUCH', 'SAMSTAG', 'WEST', 'FREUNDLICH', 'IX', 'TROCKEN', 'WEST', 'REGEN', 'REGEN']\n",
      "Counter({'KUEHL': 3, 'IX': 2, 'loc-WEST': 2, 'MINUS': 2, 'DREIZEHN': 2, 'WEST': 2, 'REGEN': 2, '__ON__': 1, 'LIEB': 1, 'ZUSCHAUER': 1, 'ABEND': 1, 'WINTER': 1, 'GESTERN': 1, 'loc-NORD': 1, 'SCHOTTLAND': 1, 'loc-REGION': 1, 'UEBERSCHWEMMUNG': 1, 'AMERIKA': 1, 'WARM': 1, 'BLEIBEN': 1, 'IN-KOMMEND': 1, 'NACHT': 1, 'loc-MINUS-PLUSPLUS': 1, 'TEIL': 1, 'FUENF': 1, 'ALPEN': 1, 'KUESTE': 1, 'NULL': 1, 'MORGEN': 1, 'TEMPERATUR': 1, 'ACHT': 1, 'BIS': 1, 'MAXIMAL': 1, 'AUCH': 1, 'SAMSTAG': 1, 'FREUNDLICH': 1, 'TROCKEN': 1})\n"
     ]
    }
   ],
   "source": [
    "x = ['__ON__ LIEB ZUSCHAUER ABEND WINTER GESTERN loc-NORD SCHOTTLAND loc-REGION UEBERSCHWEMMUNG AMERIKA IX', 'loc-WEST WARM loc-WEST BLEIBEN KUEHL', 'KUEHL KUEHL IN-KOMMEND NACHT MINUS loc-MINUS-PLUSPLUS TEIL MINUS FUENF ALPEN KUESTE NULL', 'MORGEN TEMPERATUR ACHT BIS DREIZEHN MAXIMAL DREIZEHN', 'AUCH SAMSTAG WEST FREUNDLICH IX TROCKEN WEST REGEN REGEN']\n",
    "x = ' '.join(x).split()\n",
    "print(x)\n",
    "\n",
    "counter = Counter()\n",
    "counter.update(x)\n",
    "print(counter)\n"
   ]
  },
  {
   "cell_type": "code",
   "execution_count": 10,
   "metadata": {},
   "outputs": [],
   "source": [
    "import torchtext"
   ]
  },
  {
   "cell_type": "code",
   "execution_count": 18,
   "metadata": {},
   "outputs": [
    {
     "name": "stdout",
     "output_type": "stream",
     "text": [
      "hello world\n"
     ]
    }
   ],
   "source": [
    "a = 'HELLO world'\n",
    "print(a.lower())"
   ]
  },
  {
   "cell_type": "code",
   "execution_count": 26,
   "metadata": {},
   "outputs": [
    {
     "name": "stdout",
     "output_type": "stream",
     "text": [
      "torch.Size([2, 144, 3, 180, 180])\n"
     ]
    }
   ],
   "source": [
    "import torch\n",
    "from torch.nn.utils.rnn import pad_sequence\n",
    "\n",
    "a = torch.zeros(123,3,180,180)\n",
    "b = torch.zeros(144,3,180,180)\n",
    "c = pad_sequence([a,b], batch_first = True)\n",
    "print(c.shape)\n"
   ]
  },
  {
   "cell_type": "code",
   "execution_count": 4,
   "metadata": {},
   "outputs": [
    {
     "name": "stdout",
     "output_type": "stream",
     "text": [
      "tensor([[0., -inf, -inf, -inf],\n",
      "        [0., 0., -inf, -inf],\n",
      "        [0., 0., 0., -inf],\n",
      "        [0., 0., 0., 0.]])\n"
     ]
    }
   ],
   "source": [
    "import torch\n",
    "a = torch.ones(4,4)\n",
    "a = torch.triu(a, diagonal=1)\n",
    "a = a.masked_fill(a == 0.0, float(0.0)).masked_fill(a == 1.0, float('-inf'))\n",
    "print(a)"
   ]
  },
  {
   "cell_type": "code",
   "execution_count": 5,
   "metadata": {},
   "outputs": [
    {
     "name": "stdout",
     "output_type": "stream",
     "text": [
      "tensor([[0., -inf, -inf, -inf],\n",
      "        [0., 0., -inf, -inf],\n",
      "        [0., 0., 0., -inf],\n",
      "        [0., 0., 0., 0.]])\n"
     ]
    }
   ],
   "source": [
    "mask = (torch.triu(torch.ones(4, 4)) == 1).transpose(0, 1)\n",
    "mask = mask.float().masked_fill(mask == 0, float('-inf')).masked_fill(mask == 1, float(0.0))\n",
    "print(mask)"
   ]
  },
  {
   "cell_type": "code",
   "execution_count": 22,
   "metadata": {},
   "outputs": [
    {
     "name": "stdout",
     "output_type": "stream",
     "text": [
      "tensor([[[ 1,  2,  3,  4,  5],\n",
      "         [ 5,  6,  7,  8,  9]],\n",
      "\n",
      "        [[ 1,  3,  5,  7,  9],\n",
      "         [ 2,  4,  6,  8, 10]]])\n",
      "torch.Size([2, 2, 5])\n",
      "(tensor([[[1, 2],\n",
      "         [5, 6]],\n",
      "\n",
      "        [[1, 3],\n",
      "         [2, 4]]]), tensor([[[3, 4],\n",
      "         [7, 8]],\n",
      "\n",
      "        [[5, 7],\n",
      "         [6, 8]]]), tensor([[[ 5],\n",
      "         [ 9]],\n",
      "\n",
      "        [[ 9],\n",
      "         [10]]]))\n",
      "tensor([[[1, 2],\n",
      "         [5, 6]],\n",
      "\n",
      "        [[1, 3],\n",
      "         [2, 4]]])\n",
      "tensor([[[3, 4],\n",
      "         [7, 8]],\n",
      "\n",
      "        [[5, 7],\n",
      "         [6, 8]]])\n",
      "tensor([[[ 5],\n",
      "         [ 9]],\n",
      "\n",
      "        [[ 9],\n",
      "         [10]]])\n"
     ]
    }
   ],
   "source": [
    "a = torch.zeros(2, 3, 144, 180, 180)\n",
    "a = torch.tensor([[[1,2,3,4,5],[5,6,7,8,9]],[[1,3,5,7,9],[2,4,6,8,10]]])\n",
    "print(a)\n",
    "print(a.shape)\n",
    "c = a.chunk(3,2)\n",
    "print(c)\n",
    "for idx , clip in enumerate(c):\n",
    "    print(clip)"
   ]
  },
  {
   "cell_type": "code",
   "execution_count": 8,
   "metadata": {},
   "outputs": [
    {
     "name": "stdout",
     "output_type": "stream",
     "text": [
      "14\n"
     ]
    }
   ],
   "source": [
    "print(144 // 10)"
   ]
  },
  {
   "cell_type": "code",
   "execution_count": 5,
   "metadata": {},
   "outputs": [
    {
     "name": "stdout",
     "output_type": "stream",
     "text": [
      "0.5\n"
     ]
    }
   ],
   "source": [
    "from jiwer import  wer\n",
    "import torch\n",
    "\n",
    "a = ['hello', 'world']\n",
    "b = ['hello', 'you', 'world']\n",
    "print(wer(a, b))"
   ]
  },
  {
   "cell_type": "code",
   "execution_count": 30,
   "metadata": {},
   "outputs": [
    {
     "name": "stdout",
     "output_type": "stream",
     "text": [
      "139781627810512\n",
      "139781627810512\n",
      "139781627810152\n",
      "tensor([[3, 4],\n",
      "        [3, 4]])\n",
      "torch.int64\n",
      "torch.return_types.max(\n",
      "values=tensor([4, 4]),\n",
      "indices=tensor([1, 1]))\n",
      "CPU times: user 0 ns, sys: 4 ms, total: 4 ms\n",
      "Wall time: 2.39 ms\n"
     ]
    }
   ],
   "source": [
    "%%time\n",
    "\n",
    "a = torch.tensor([[1,2],[3,4]])\n",
    "b = a\n",
    "b[0] = torch.tensor([3,4])\n",
    "print(id(a))\n",
    "print(id(b))\n",
    "c = copy.deepcopy(a)\n",
    "print(id(c))\n",
    "print(a.data)\n",
    "print(a.dtype)\n",
    "print(a.max(1))"
   ]
  },
  {
   "cell_type": "code",
   "execution_count": null,
   "metadata": {},
   "outputs": [],
   "source": []
  }
 ],
 "metadata": {
  "kernelspec": {
   "display_name": "Python [conda env:sign]",
   "language": "python",
   "name": "conda-env-sign-py"
  },
  "language_info": {
   "codemirror_mode": {
    "name": "ipython",
    "version": 3
   },
   "file_extension": ".py",
   "mimetype": "text/x-python",
   "name": "python",
   "nbconvert_exporter": "python",
   "pygments_lexer": "ipython3",
   "version": "3.6.7"
  }
 },
 "nbformat": 4,
 "nbformat_minor": 2
}
