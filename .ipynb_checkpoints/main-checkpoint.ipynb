{
 "cells": [
  {
   "cell_type": "code",
   "execution_count": null,
   "metadata": {},
   "outputs": [],
   "source": [
    "import os\n",
    "import time\n",
    "import matplotlib.pyplot as plt\n",
    "\n",
    "import torch\n",
    "from torchvision import transforms"
   ]
  },
  {
   "cell_type": "markdown",
   "metadata": {},
   "source": [
    "## loading dataset"
   ]
  },
  {
   "cell_type": "code",
   "execution_count": null,
   "metadata": {},
   "outputs": [],
   "source": [
    "root = '/home/usr/xieliang'\n",
    "\n"
   ]
  },
  {
   "cell_type": "code",
   "execution_count": null,
   "metadata": {},
   "outputs": [],
   "source": [
    "# loading dataset\n",
    "csv_root = '/media/xieliang555/新加卷/数据集/phoenix2014-release/phoenix-2014-multisigner/annotations/manual'\n",
    "clip_root = '/media/xieliang555/新加卷/数据集/phoenix2014-release/phoenix-2014-multisigner/features/fullFrame-210x260px'\n",
    "\n",
    "transform = transforms.Compose([transforms.ToPILImage(),\n",
    "                                transforms.RandomCrop(224, pad_if_needed=True),\n",
    "                                transforms.ToTensor()])\n",
    "\n",
    "\n",
    "train_csv_dir = os.path.join(csv_root, 'train.corpus.csv')\n",
    "train_root_dir = os.path.join(clip_root, 'train')\n",
    "train_set = utils.PhoenixDataset(train_csv_dir, train_root_dir, transform)\n",
    "train_loader = torch.utils.data.DataLoader(train_set,\n",
    "                                           batch_size=1, shuffle=True, num_workers=0, collate_fn=utils.collate_fn)\n",
    "\n",
    "\n",
    "dev_csv_dir = os.path.join(csv_root, 'dev.corpus.csv')\n",
    "dev_root_dir = os.path.join(clip_root, 'dev')\n",
    "dev_set = utils.PhoenixDataset(dev_csv_dir, dev_root_dir, transform)\n",
    "dev_loader = torch.utils.data.DataLoader(dev_set,\n",
    "                                         batch_size=2, shuffle=True, num_workers=0, collate_fn=utils.collate_fn)\n",
    "\n",
    "\n",
    "test_csv_dir = os.path.join(csv_root, 'test.corpus.csv')\n",
    "test_root_dir = os.path.join(clip_root, 'test')\n",
    "test_set = utils.PhoenixDataset(test_csv_dir, test_root_dir, transform)\n",
    "test_loader = torch.utils.data.DataLoader(test_set,\n",
    "                                          batch_size=4, shuffle=True, num_workers=0, collate_fn=utils.collate_fn)\n",
    "\n",
    "\n",
    "# define model\n",
    "for batch_idx, sample_batch in enumerate(train_loader):\n",
    "    print(utils.itos(sample_batch['annotation']))\n",
    "\n",
    "    if batch_idx == 0:\n",
    "        break\n",
    "\n",
    "\n",
    "# 整理nlp custom dataset方法， type dir help方法"
   ]
  }
 ],
 "metadata": {
  "kernelspec": {
   "display_name": "Python [conda env:sign]",
   "language": "python",
   "name": "conda-env-sign-py"
  },
  "language_info": {
   "codemirror_mode": {
    "name": "ipython",
    "version": 3
   },
   "file_extension": ".py",
   "mimetype": "text/x-python",
   "name": "python",
   "nbconvert_exporter": "python",
   "pygments_lexer": "ipython3",
   "version": "3.6.9"
  },
  "toc": {
   "base_numbering": 1,
   "nav_menu": {},
   "number_sections": true,
   "sideBar": true,
   "skip_h1_title": false,
   "title_cell": "Table of Contents",
   "title_sidebar": "Contents",
   "toc_cell": false,
   "toc_position": {},
   "toc_section_display": true,
   "toc_window_display": false
  }
 },
 "nbformat": 4,
 "nbformat_minor": 2
}
