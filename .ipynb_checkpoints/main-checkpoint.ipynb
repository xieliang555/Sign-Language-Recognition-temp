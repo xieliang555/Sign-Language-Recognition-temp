{
 "cells": [
  {
   "cell_type": "code",
   "execution_count": 2,
   "metadata": {},
   "outputs": [],
   "source": [
    "import torch\n",
    "import torchvision\n",
    "import torch.nn as nn\n",
    "from torch.utils.data import DataLoader\n",
    "from torchvision import transforms\n",
    "from torchtext.data import Field\n",
    "from torch.nn.utils.rnn import pad_sequence\n",
    "from torch.utils.tensorboard import SummaryWriter\n",
    "import torch.optim as optim\n",
    "from torchsummaryX import summary\n",
    "\n",
    "import warnings\n",
    "warnings.filterwarnings(\"ignore\")\n",
    "import os\n",
    "import time\n",
    "import copy\n",
    "\n",
    "import utils\n",
    "import models\n",
    "from dataset import PhoenixDataset, ToTensorVideo, RandomResizedCropVideo"
   ]
  },
  {
   "cell_type": "markdown",
   "metadata": {},
   "source": [
    "## Dataset statistic"
   ]
  },
  {
   "cell_type": "code",
   "execution_count": 3,
   "metadata": {},
   "outputs": [],
   "source": [
    "# root = '/mnt/data/public/datasets'\n",
    "# print('video length: maximum / minimum / average / std')\n",
    "# print(utils.DatasetStatistic(root, 'train'))\n",
    "# print(utils.DatasetStatistic(root, 'dev'))\n",
    "# print(utils.DatasetStatistic(root, 'test'))"
   ]
  },
  {
   "cell_type": "markdown",
   "metadata": {},
   "source": [
    "## Building vocab"
   ]
  },
  {
   "cell_type": "code",
   "execution_count": 16,
   "metadata": {},
   "outputs": [
    {
     "name": "stdout",
     "output_type": "stream",
     "text": [
      "['<unk>', '<pad>', '<sos>', 'regen', '__off__', '__on__', 'ix', 'morgen', 'wolke', 'sonne', 'grad', '__emotion__', 'wehen', 'region', 'loc-region', '__pu__', 'schnee', 'nacht', 'gewitter', 'koennen', 'mehr', 'auch', 'cl-kommen', 'bisschen', 'heute', 'schauer', 'kommen', 'bis', 'wetter', 'sued', 'nord', 'wind', 'dann', 'zwanzig', '__lefthand__', 'nebel', 'ost', 'abend', 'moeglich', 'freundlich', 'jetzt', 'berg', 'sturm', 'teil', 'maessig', 'wechselhaft', 'aber', 'tag', 'west', 'fluss', 'tief', 'wie-aussehen', 'minus', 'schwach', 'mitte', 'nordraum', 'bleiben', 'sonntag', 'kuehl', 'freitag', 'klar', 'viel', 'samstag', 'trocken', 'hoch', 'stark', 'loc-nord', 'donnerstag', 'besonders', 'sonst', 'meistens', 'temperatur', 'kalt', 'in-kommend', 'und', 'mittwoch', 'montag', 'schneien', 'warm', 'nur', 'regen-plusplus', 'gut', 'land', 'fuenf', 'deutsch', 'nordwestraum', 'dienstag', 'mittag', 'loc-nordwest', 'schoen', 'alpen', 'frost', 'mild', 'drei', 'kueste', 'im-verlauf', 'himmel', 'verschwinden', 'vier', 'luft', 'sehen', 'loc-suedost', 'hauptsaechlich', 'sieben', 'schon', 'noch', 'suedostraum', 'dabei', 'frisch', 'eins', 'mal', 'zehn', 'loc-sued', 'acht', 'nach', 'sechs', 'zwischen', 'maximal', 'anfang', 'glatt', 'zwei', 'null', 'enorm', 'nordostraum', 'plus', 'suedwestraum', 'neun', 'vierzehn', 'ueberwiegend', 'fuenfzehn', 'lieb', 'dreissig', 'dreizehn', 'zuschauer', 'wenn', 'teilweise', 'wenig', 'zwoelf', 'suedraum', 'wieder', 'bewoelkt', 'druck', 'stern', 'bayern', 'lang', 'loc-west', 'siebzehn', 'wahrscheinlich', 'loc-nordost', 'meer', 'loc-suedwest', 'weiter', 'elf', 'sechszehn', 'wie', 'europa', 'oder', 'poss-euch', 'achtzehn', 'ruhig', 'spaeter', 'wochenende', 'dazu', 'haben', 'see', 'loc-ost', 'orkan', 'durchgehend', 'naechste', 'frueh', 'so', 'steigen', 'ab', 'neu', 'sinken', 'deswegen', 'nicht-haben', 'leicht', 'wald', 'ungefaehr', 'vorsicht', 'machen', 'neunzehn', 'besser', 'deutschland', 'gleich', 'warnung', 'heiss', 'unwetter', 'westraum', 'zeigen', 'aufloesen', 'zweizwanzig', 'gefrieren', 'ueber', 'woche', 'ein', 'hier', 'manchmal', 'mit', 'scheinen', 'speziell', 'vor', 'boden', 'ort-plusplus', 'wehen-plusplus', 'wie-immer', 'poss-sein', 'wuenschen', 'november', 'oktober', 'dienst', 'naehe', 'juli', 'voraus', 'skandinavien', 'sommer', 'tschuess', 'darum', 'oft', 'tatsaechlich', 'winter', 'doch', 'februar', 'gefahr', 'langsam', 'veraendern', 'begruessen', 'es-bedeutet', 'januar', 'april', 'dezember', 'feucht', 'haben2', 'informieren', 'mai', 'umwandeln', 'meter', 'september', 'august', 'herbst', 'kaum', 'unterschied', 'loc-zone', 'rest', 'bedeuten', 'grund', 'von', 'e', 'gerade', 'ort', 'schwer', 'zuerst', 'blitz', 'ich', 'loc-alpen', 'tagsueber', 'brand', 'das-ist-es', 'eis', 'weniger', 'aussehen', 'deshalb', 'einfluss', 'juni', 'l', 'sachsen', 'trueb', 'allgaeu', 'frankreich', 'im-moment', 'ueberall', 'vielleicht', 'zeigen-bildschirm', 'diese', 'schwarz', 'tropfen', 'kraeftig', 'nichtalp-auch', 'unter', 'du', 'durch', 'graupel', 'nachmittag', 'nass', 'nicht', 'heftig', 'maerz', 'schottland', 'stunde', 'england', 'ostraum', 'siebte', 'stroemen', 'zeit', 'andere', 'angenehm', 'beispiel', 'erste', 'mischung', 'ruegen', 'sauer', 'burg', 'einigermassen', 'herz', 'hoehe', 'schauer-plusplus', 'schnee-plusplus', 'wert', 'zone', 'donner', 'einige', 'fruehling', 'ganztags', 'nocheinmal', 'passen', 'polen', 'selten', 'tal', 'thueringen', 'unten', 'fast', 'hagel', 'loc-ort-plusplus', 'mitteilen', 'verschieden', 'voraussage', 'was', 'zweite', 'ach', 'aehnlich', 'b', 'dazwischen', 'grenze', 'insgesamt', 'kurz', 'loch', 'nah', 'nichts', 'rechnen', 'super', 'vogel', 'aufziehen', 'dasselbe', 'kommen-plusplus', 'm', 'sechste', 'ueberschwemmung', 'vierte', 'wo', 'achte', 'auflockerung', 'berlin', 'kein', 'koeln', 'locker', 'los', 'warum', 'z', 'achtung', 'als', 'bisher', 'daenemark', 'es-gibt', 'f', 'fuenfte', 'h', 'i', 'nicht-mehr', 'r', 'richtung', 's', 'schwuel', 'verringern', 'vorbei', 'zehnte', 'dritte', 'ja', 'loc-kommen', 'loc-kueste', 'muessen', 'russland', 'schaffen', 'soll', 'tauen', 'trotzdem', 'und-dann', 'vorher', 'alle', 'auf', 'da', 'danach', 'dick', 'erstmal', 'flach', 'fuer', 'heute-nacht', 'italien', 'letzte', 'merken', 'morgens', 'neunte', 'noch-nicht', 'normal', 'punkt', 'sagen', 'schleswig', 'schnell', 'strasse', 'umkehren', 'verbreiten', 'wechsel', 'a', 'am-tag', 'bis-jetzt', 'dauer', 'dreidreissig', 'holstein', 'ihr', 'jahr', 'liter', 'nichtalp-kein', 'nieder', 'poss-bei-uns', 'schauen', 'sechshundert', 'u', 'vorteil', 'wechselhaft-plusplus', 'woher', 'wolke-plusplus', 'am', 'baden', 'bewegen', 'folge', 'fuenfhundert', 'gewesen', 'grau', 'griechenland', 'hundert', 'leider', 'loc-grenze', 'mehr-plusplus', 'nein', 'nicht-viel', 'nordost', 'nordwest', 'oben', 'ober', 'paar', 'selbe', 'sonne-plusplus', 'um', 'verkehr', 'vormittag', 'wirbel', 'wirklich', 'blau', 'brauchen', 'dicht', 'eifel', 'gestern', 'gewitter-plusplus', 'gross', 'grossbritannien', 'hochwasser', 'j', 'loc-wehen', 'nicht-kaum', 'nicht-regen', 'risiko', 'sage', 'schweden', 'sie', 'stellenweise', 'sylt', 'typisch', 'w', 'wasser', 'zurueck', 'ankommen', 'auftauchen', 'c', 'd', 'haelfte', 'harmlos', 'island', 'nicht-nichts', 'niedersachsen', 'norwegen', 'rot', 'schluss', 'spanien', 'stabil', 'stein', 'uebermorgen', 'v', 'auf-jeden-fall', 'brandenburg', 'entschuldigung', 'erwarten', 'etwas', 'fahren', 'feld', 'fuehlen-wie', 'geben', 'gewohnt', 'immer', 'knapp', 'loc-mitte', 'nicht-kein', 'nicht-trocken', 'nieselregen', 'ostern', 'passieren', 'poss-mein', 'rhein', 'sch', 'schlimm', 'siebenhundert', 'sturm-plusplus', 't', 'tausend', 'text', 'uhr', 'vierhundert', 'vierzig', 'wirbelsturm', 'y', 'zentimeter', 'zweidreissig', 'zwischen-null', 'zwoelfte', 'abwechseln', 'achthundert', 'anders', 'aufpassen', 'auto', 'belgien', 'bereich', 'bestimmt', 'blockieren', 'boee', 'chance', 'chaos', 'dreihundert', 'erst', 'fallen', 'gehen', 'gemuetlich', 'genau', 'gleich-bleiben', 'hart', 'haupt', 'in-paar-tag', 'k', 'klein', 'loc-aufziehen', 'loc-land', 'loc-region-plusplus', 'loc-stellenweise-plusplus', 'loc-wind', 'nach-hause', 'neunhundert', 'nicht-frost', 'nicht-klar', 'nordsee', 'obwohl', 'p', 'positiv', 'quadratmeter', 'quell', 'rekord', 'rund-um-die-uhr', 'schwierig', 'spaet', 'tage', 'tuerkei', 'war', 'weg', 'wir', 'zentrum', 'zwei-tag', 'aachen', 'abschnitt', 'achtzig', 'aktuell', 'angemessen', 'ausrichten', 'bad', 'bekanntgeben', 'beobachten', 'bluete', 'bodensee', 'bringen', 'britannien', 'damen', 'dauernd', 'duenn', 'elfte', 'ende', 'endlich', 'fertig', 'finnland', 'flaechendeckend', 'flut', 'foehn', 'frankfurt', 'frei', 'fuenfzig', 'haar', 'haften', 'hallo', 'hamburg', 'herren', 'hessen', 'hoeher', 'hoffen', 'holland', 'in-bestimmt-zeit', 'internet', 'irland', 'jeden-tag', 'kilometer', 'kuehler', 'lage', 'leute', 'liegen', 'loc-bereich', 'loc-berg', 'loc-position-plusplus', 'loc-regen', 'loc-tief', 'luecke', 'moegen', 'nicht-grad', 'nicht-kalt', 'nicht-nebel', 'nicht-schlimm', 'nicht-schoen', 'oesterreich', 'pfalz', 'pfingsten', 'ploetzlich', 'pro', 'problem', 'prozent', 'rein', 'schneien-plusplus', 'siebzig', 'ski', 'spazieren', 'spriessen', 'stocken', 'strahlen', 'suedost', 'taugen', 'tja', 'vergleich', 'vermeiden', 'vorbereiten', 'weihnacht', 'weihnachten', 'wer', 'wichtig', 'wie-geblieben', 'wuerttemberg', 'zu-ende', 'zusammenhang', 'absinken', 'aktiv', 'also', 'alt', 'am-kueste', 'an', 'aufbluehen', 'aufklaren', 'aufkommen', 'aufloesen-plusplus', 'aus', 'ausnahme', 'aussergewoehnlich', 'auswaehlen-plusplus', 'bald', 'bauer', 'baum', 'beiseite', 'beruhigen', 'bitte', 'bremen', 'cl-null', 'deutschlandraum', 'drei-monate', 'dresden', 'ein-bisschen', 'ein-paar', 'eisen', 'entspannt', 'entwickeln', 'erdrutsch', 'erfurt', 'erz', 'euch', 'fliessen', 'flocken', 'fragezeichen', 'freuen', 'frost-plusplus', 'fuehlen', 'fuer-alle', 'g', 'gebirge', 'gehoert', 'geht-so', 'gelb', 'gemischt', 'genug', 'gesamt', 'glueck', 'gold', 'grob', 'gut-abend', 'hagel-plusplus', 'halb', 'hoeren', 'im', 'in', 'in-paar-tage-spaeter', 'insel', 'insel-plusplus', 'kiel', 'klappen', 'kratzen', 'loc-aufloesen-plusplus', 'loc-flaechendeckend', 'loc-fluss', 'loc-haben', 'loc-ix', 'loc-loch-plusplus', 'loc-null', 'loc-position', 'loc-sturm', 'loc-ueberall', 'loc-zeigen', 'mainz', 'mecklenburg', 'moment', 'mond', 'morgen-frueh', 'muenchen', 'muenster', 'n', 'nicht-einfluss', 'nicht-fuehlen', 'nicht-gemuetlich', 'nicht-gewitter', 'nicht-nein', 'nicht-nicht-mehr', 'nicht-nord', 'nicht-region', 'nicht-sehen', 'nicht-sonne', 'nicht-warten', 'nichtalp-koennen', 'niederung', 'nordpol', 'nordrhein-westfalen', 'o', 'ob', 'orange', 'pause', 'pommern', 'puenktlich', 'rand', 'region-plusplus', 'reif', 'rheinland-pfalz', 'richtig', 'rodeln', 'schaden', 'schau-mal', 'schlecht', 'schlechter', 'schlimmer', 'schon-wieder', 'sehr', 'situation', 'sitz', 'so-bleiben', 'spitze', 'spueren', 'stau', 'stoerung', 'streng', 'suchen', 'suedwest', 't-shirt', 'toll', 'traum', 'trennen', 'tropfen-plusplus', 'tropisch', 'tschechien', 'tun', 'ungemuetlich', 'unterschied-plusplus', 'verlaufen', 'verschieben', 'verschwinden-plusplus', 'verteilen', 'vertreiben', 'wahr', 'warten', 'wein', 'weit', 'wirtschaft', 'wissen', 'wohnen', 'wuerz', 'ziehen', 'zu', 'zufrieden', 'zug', 'zusammen', 'ab-jetzt', 'ab-plusplus', 'abfallen', 'abschied', 'aehnlch', 'aendern', 'afrika', 'allgemein', 'alpenrand', 'alpental', 'am-meer', 'am-rand', 'amerika', 'andere-moeglichkeit', 'angst', 'anhalt', 'ansammeln', 'anschauen', 'arm', 'atlantik', 'auch-nicht', 'aufeinandertreffen', 'auffuellen', 'aufheitern', 'aufhoeren', 'auflockerung-plusplus', 'aufziehen-plusplus', 'auseinander', 'aushalten', 'automatisch', 'baden-wuerttemberg', 'bedeckt', 'bedingungen', 'beginn', 'bei-uns', 'bekannt', 'bekommen', 'belaestigung', 'bergab', 'bergauf', 'beruf', 'besprechen', 'besser-plusplus', 'betroffen', 'bett', 'bewoelkt-plusplus', 'bis-mitte', 'bis-morgen', 'bisschen-plusplus', 'blatt', 'bleiben-gleich', 'blumen-plusplus', 'braun', 'brocken', 'bruckberg', 'bunt', 'chance-plusplus', 'cl-kommen-plusplus', 'dabei-plusplus', 'dafuer', 'daneben', 'darauf', 'darunter', 'das-war-es', 'demnaechst', 'denken', 'diese-woche', 'diesmal', 'doch-sonst-noch', 'draussen', 'drehen', 'dreimal', 'druckflaeche', 'duesseldorf', 'dumm', 'dunst', 'durcheinander', 'durchschnitt', 'eben', 'echt', 'eigentlich', 'ein-jahr', 'ein-woche', 'eine', 'einfach', 'einhundert', 'einluss', 'einschraenken', 'einzeln-plusplus', 'empfindlich', 'entfernt', 'enthalten', 'erfahren', 'erfahrung', 'erhoehen', 'erleichert', 'erschrocken', 'ewig', 'extrem', 'fach', 'fehlt', 'feier', 'fest', 'freizeit', 'front', 'fuenf-tage', 'fuenf-uhr', 'fuer-uns', 'geniessen', 'geschwindigkeit', 'getrennt', 'gipfel', 'glatteis', 'glauben', 'gleich-plusplus', 'gleich-wie', 'gott', 'grad-plusplus', 'graupel-plusplus', 'gruen', 'halten', 'hannover', 'haven', 'heilig', 'heilige', 'hell', 'herab', 'hervorragend', 'heute-abend', 'heute-mittag', 'hindernis', 'holen', 'hund', 'hut', 'im-laufe', 'in-diese-woche', 'in-kommend-tag', 'in-kommend-zeit', 'in-kuerze', 'innerhalb', 'interessant', 'irgendwann', 'kalt-plusplus', 'kaltfront', 'kanada', 'kanal', 'kann', 'kaputtgegangen', 'karfreitag', 'kaum-plusplus', 'klar-plusplus', 'kleinigkeit', 'koblenz', 'koennen-plusplus', 'koerper', 'koerper-plusplus', 'komma', 'komplett', 'konstant', 'korb', 'krise', 'kroatien', 'kuchen', 'kuehl-plusplus', 'kurve', 'laerm-plusplus', 'lahm', 'landschaft', 'laufen', 'lausitz', 'leben', 'leipzig', 'lesen', 'letzte-woche', 'lh-hoch', 'licht', 'loc-aufloesen', 'loc-aufteilen', 'loc-aufziehen-plusplus', 'loc-auswaehlen', 'loc-druckflaeche', 'loc-glitzern', 'loc-grad', 'loc-haben2-plusplus', 'loc-insel-plusplus', 'loc-irgendwo', 'loc-karte', 'loc-land-plusplus', 'loc-meer', 'loc-minus', 'loc-minus-plusplus', 'loc-nebel', 'loc-neben', 'loc-neun', 'loc-oben', 'loc-ort', 'loc-ostbayern', 'loc-raum', 'loc-regen-plusplus', 'loc-schwach-plusplus', 'loc-sechs', 'loc-see', 'loc-sieben', 'loc-siebenzehn', 'loc-sonne-scheinen', 'loc-streifen', 'loc-stroemen', 'loc-suedraum', 'loc-tal', 'loc-trocken', 'loc-unten', 'loc-verschieben', 'loc-vier', 'loc-wolke', 'loc-zwei', 'loc-zwischen', 'loc-zwoelf', 'loch-plusplus', 'maessig-plusplus', 'mal-ab-zu', 'mal-plusplus', 'manchmal-plusplus', 'markt', 'maschine', 'matsch', 'mecklenburg-vorpommern', 'mehr-wenig', 'mehrmals', 'meinen', 'merkwuerdig', 'messen', 'mindestens', 'mitbekommen', 'miteilen', 'mitnehmen', 'mittegebirge', 'mitziehen', 'mm', 'moskau', 'mund', 'naechste-woche', 'natur', 'neunzehnte', 'neunzig', 'nicht-achtzehn', 'nicht-bedeuten', 'nicht-cl-kommen', 'nicht-deutsch', 'nicht-diese-woche', 'nicht-fuenf', 'nicht-genug', 'nicht-gleich', 'nicht-hart', 'nicht-heiss', 'nicht-hoehe', 'nicht-immer', 'nicht-koennen', 'nicht-kommen', 'nicht-meistens', 'nicht-nacht', 'nicht-naja', 'nicht-nicht-nur', 'nicht-noch-nicht', 'nicht-null', 'nicht-regen-plusplus', 'nicht-richtig', 'nicht-scheinen', 'nicht-schlecht', 'nicht-schnee', 'nicht-selten', 'nicht-spueren', 'nicht-stark', 'nicht-teil', 'nicht-thema', 'nicht-von', 'nicht-warm', 'nicht-zu-warm', 'nichtalp-brauchen', 'nichtalp-gibt', 'nichtalp-muss', 'nichtalp-nicht', 'nichtalp-passen', 'nichtalp-stimmt', 'niedrig', 'nn', 'noch-mehr', 'noch-plusplus', 'nordrhein', 'nrw', 'nummer', 'oft-plusplus', 'ohne', 'paar-tag', 'pfeil', 'pflanze', 'portugal', 'pullover', 'qu-du', 'qu-moegen', 'qu-steigen', 'quadrat', 'raum', 'rausfallen', 'reduzieren', 'regen-auf-alpen', 'rheindland', 'rheinland', 'rostock', 'ruecken', 'ruhrgebiet', 'rumaenien', 's0nne', 'saarland', 'sand', 'schaetzen', 'scheinen-plusplus', 'schirm', 'schlaf', 'schlagsahne', 'schmelzen', 'schrank', 'schuetzen', 'schuld', 'schwach-plusplus', 'schwierig-plusplus', 'schwitzen', 'sei-dank', 'seit', 'seite', 'sicher', 'sieben-woche', 'sonnenuntergang', 'sowieso', 'spaetesten', 'sport', 'stadt', 'stamm', 'start', 'stehen', 'steigen-oben', 'steigen-runter', 'steigen-runter-plusplus', 'stern-plusplus', 'stimmt', 'strom', 'stuttgart', 'sued-plusplus', 'tanken', 'tau', 'temperatur-plusplus', 'thema', 'trueb-plusplus', 'tuerkei-plusplus', 'ueber-unter', 'ueberflutung', 'um-plusplus', 'umstaendlich', 'umstellen', 'und-so-weiter', 'ungarn', 'unser', 'unsicher', 'unternehmen', 'unwahrscheinlich', 'urlaub', 'verantwortlich', 'verbinden', 'verdichten', 'vereinzelt', 'verspaetet', 'versuchen', 'verwoehnt', 'video', 'voll', 'vor-allem', 'vor-letzten-tagen', 'vorderscheibe', 'vorpommern', 'vorstellen', 'voruebergehend', 'wachsen', 'wann', 'warscheinlich', 'wasch', 'wasser-steigen', 'weiber', 'weil', 'weit-sehen', 'werden', 'weser', 'wie-immer-plusplus', 'wie-lang', 'wieder-zurueck', 'wiese', 'wieviel', 'wind-plusplus', 'wirken', 'wunderbar', 'wunderschoen', 'x', 'zahl', 'zeitskala', 'zoom', 'zu-hause', 'zu-tun', 'zum-beispiel', 'zum-glueck', 'zusammenstoss', 'zusammentreffen', 'zweifel']\n"
     ]
    }
   ],
   "source": [
    "# eos_token\n",
    "TRG = Field(sequential=True, use_vocab=True,\n",
    "            init_token='<sos>', eos_token= '<eos>',\n",
    "            lower=True, tokenize='spacy',\n",
    "            tokenizer_language='de')\n",
    "\n",
    "root = '/mnt/data/public/datasets'\n",
    "csv_file = utils.get_csv(root)\n",
    "tgt_sents = [csv_file.iloc[i, 0].lower().split('|')[3].split()\n",
    "             for i in range(len(csv_file))]\n",
    "\n",
    "# hyper\n",
    "TRG.build_vocab(tgt_sents, min_freq=1)"
   ]
  },
  {
   "cell_type": "markdown",
   "metadata": {},
   "source": [
    "## Process batch"
   ]
  },
  {
   "cell_type": "code",
   "execution_count": 14,
   "metadata": {},
   "outputs": [],
   "source": [
    "def collate_fn(batch):\n",
    "    '''\n",
    "    process the batch:\n",
    "        pad the variant video sequence length to the fixed length\n",
    "        process the annotations\n",
    "    '''\n",
    "    # video shape from [C, T, H, W] to [T, C, H, W]\n",
    "    videos = [item['video'].permute(1,0,2,3) for item in batch]\n",
    "    annotations = [item['annotation'].split() for item in batch]\n",
    "    videos= pad_sequence([v for v in videos], batch_first=True)\n",
    "    # video shape from [N, T, C, H, W] to [N, C, T, H, W]\n",
    "    videos = videos.permute(0, 2, 1, 3 , 4)\n",
    "    annotations = TRG.process(annotations)\n",
    "\n",
    "    return {'videos': videos, 'annotations': annotations}"
   ]
  },
  {
   "cell_type": "markdown",
   "metadata": {},
   "source": [
    "## Loading dataset"
   ]
  },
  {
   "cell_type": "code",
   "execution_count": 15,
   "metadata": {},
   "outputs": [
    {
     "name": "stdout",
     "output_type": "stream",
     "text": [
      "[['ix', 'bisschen', 'schnee', 'schneien', 'schneien', 'abend', 'region', '__pu__', 'regen', 'regen', 'frost', '__emotion__', 'schnee', 'schneien', 'schneien', 'ix', '__off__']]\n",
      "tensor([[ 2],\n",
      "        [ 6],\n",
      "        [23],\n",
      "        [16],\n",
      "        [77],\n",
      "        [77],\n",
      "        [37],\n",
      "        [13],\n",
      "        [15],\n",
      "        [ 3],\n",
      "        [ 3],\n",
      "        [91],\n",
      "        [11],\n",
      "        [16],\n",
      "        [77],\n",
      "        [77],\n",
      "        [ 6],\n",
      "        [ 4]])\n",
      "[['__on__', 'tag', 'regen', 'mitte', 'cl-kommen', 'sued', 'teil', 'sonne']]\n",
      "tensor([[ 2],\n",
      "        [ 5],\n",
      "        [47],\n",
      "        [ 3],\n",
      "        [54],\n",
      "        [22],\n",
      "        [29],\n",
      "        [43],\n",
      "        [ 9]])\n",
      "[['donnerstag', 'freundlich', 'teil', 'teil', 'wolke', 'oder', 'bewoelkt', 'ich', 'loc-suedwest', 'mal', 'mal', 'regen', 'alpen', 'foehn', 'nicht-haben', 'wind', '__off__']]\n",
      "tensor([[  2],\n",
      "        [ 67],\n",
      "        [ 39],\n",
      "        [ 43],\n",
      "        [ 43],\n",
      "        [  8],\n",
      "        [156],\n",
      "        [140],\n",
      "        [254],\n",
      "        [150],\n",
      "        [110],\n",
      "        [110],\n",
      "        [  3],\n",
      "        [ 90],\n",
      "        [606],\n",
      "        [176],\n",
      "        [ 31],\n",
      "        [  4]])\n",
      "[['morgen', 'morgen', 'schwach', 'maessig', '__lefthand__', 'region', '__lefthand__', 'wehen', 'wehen', '__lefthand__', 'ix', 'wehen', 'wehen']]\n",
      "tensor([[ 2],\n",
      "        [ 7],\n",
      "        [ 7],\n",
      "        [53],\n",
      "        [44],\n",
      "        [34],\n",
      "        [13],\n",
      "        [34],\n",
      "        [12],\n",
      "        [12],\n",
      "        [34],\n",
      "        [ 6],\n",
      "        [12],\n",
      "        [12]])\n",
      "[['sonntag', 'ix', 'moeglich', 'region', 'regen', 'schnee', 'sonst', 'trocken', 'wolke', 'sonne', '__lefthand__', 'nebel', '__off__']]\n",
      "tensor([[ 2],\n",
      "        [57],\n",
      "        [ 6],\n",
      "        [38],\n",
      "        [13],\n",
      "        [ 3],\n",
      "        [16],\n",
      "        [69],\n",
      "        [63],\n",
      "        [ 8],\n",
      "        [ 9],\n",
      "        [34],\n",
      "        [35],\n",
      "        [ 4]])\n",
      "torch.Size([1, 3, 92, 112, 112])\n",
      "torch.Size([18, 1])\n",
      "['<sos>', 'ix', 'bisschen', 'schnee', 'schneien', 'schneien', 'abend', 'region', '__pu__', 'regen', 'regen', 'frost', '__emotion__', 'schnee', 'schneien', 'schneien', 'ix', '__off__']\n",
      "5672\n",
      "540\n",
      "629\n"
     ]
    }
   ],
   "source": [
    "BSZ = 1\n",
    "root = '/mnt/data/public/datasets'\n",
    "transform = transforms.Compose([ToTensorVideo(),\n",
    "                                RandomResizedCropVideo(112)])\n",
    "\n",
    "train_loader = DataLoader(PhoenixDataset(root, 'train', transform=transform),\n",
    "                          batch_size=BSZ, shuffle=True, num_workers=4, collate_fn=collate_fn)\n",
    "dev_loader = DataLoader(PhoenixDataset(root, 'dev', transform=transform),\n",
    "                        batch_size=BSZ, shuffle=True, num_workers=4, collate_fn=collate_fn)\n",
    "# False\n",
    "test_loader = DataLoader(PhoenixDataset(root, 'test', transform=transform),\n",
    "                         batch_size=BSZ, shuffle=False, num_workers=4, collate_fn=collate_fn)\n",
    "\n",
    "# videos: [N, C, T, H, W]\n",
    "# annotations: [L, N]\n",
    "\n",
    "batch = next(iter(train_loader))\n",
    "print(batch['videos'].shape)\n",
    "print(batch['annotations'].shape)\n",
    "\n",
    "print(utils.itos(batch['annotations'].squeeze(1), TRG))\n",
    "\n",
    "print(len(train_loader))\n",
    "print(len(dev_loader))\n",
    "print(len(test_loader))"
   ]
  },
  {
   "cell_type": "markdown",
   "metadata": {},
   "source": [
    "## Define model"
   ]
  },
  {
   "cell_type": "code",
   "execution_count": 7,
   "metadata": {},
   "outputs": [],
   "source": [
    "D_MODEL = 512\n",
    "DROPOUT = 0.5\n",
    "NHEAD = 1\n",
    "NUM_ENCODER_LAYERS = 1\n",
    "NUM_DECODER_LAYERS = 1\n",
    "DIM_FEEDFORWARD = 64\n",
    "ACTIVATION = 'relu'\n",
    "NCLIP = 10\n",
    "NEPOCH = 1\n",
    "\n",
    "device = torch.device('cuda:2' if torch.cuda.is_available() else 'cpu')\n",
    "\n",
    "writer = SummaryWriter(os.path.join('./log', time.strftime(\n",
    "    \"%Y-%m-%d %H:%M:%S\", time.localtime(time.time()))))\n",
    "\n",
    "res3D_pretrained = torchvision.models.video.r3d_18(pretrained=True)\n",
    "\n",
    "encoder = models.Res3D(res3D_pretrained)\n",
    "\n",
    "decoder = models.Transformer(\n",
    "    device, len(TRG.vocab), D_MODEL, DROPOUT,\n",
    "    NHEAD, NUM_ENCODER_LAYERS, NUM_DECODER_LAYERS,\n",
    "    DIM_FEEDFORWARD, ACTIVATION)\n",
    "\n",
    "# decoder = models.TransformerEncoder(\n",
    "#     len(TRG.vocab), D_MODEL, NHEAD, \n",
    "#     DIM_FEEDFORWARD, DROPOUT, ACTIVATION,\n",
    "#     NUM_ENCODER_LAYERS)\n",
    "\n",
    "model = models.Seq2Seq(NCLIP, encoder, decoder, device).to(device)\n",
    "\n",
    "criterion = nn.CrossEntropyLoss(ignore_index=TRG.vocab.stoi['<pad>'])\n",
    "\n",
    "optimizer = optim.Adam(model.parameters())"
   ]
  },
  {
   "cell_type": "markdown",
   "metadata": {},
   "source": [
    "## Train and evaluate"
   ]
  },
  {
   "cell_type": "code",
   "execution_count": 9,
   "metadata": {},
   "outputs": [
    {
     "ename": "KeyboardInterrupt",
     "evalue": "",
     "output_type": "error",
     "traceback": [
      "\u001b[0;31m---------------------------------------------------------------------------\u001b[0m",
      "\u001b[0;31mKeyboardInterrupt\u001b[0m                         Traceback (most recent call last)",
      "\u001b[0;32m<ipython-input-9-126743d5b048>\u001b[0m in \u001b[0;36m<module>\u001b[0;34m()\u001b[0m\n\u001b[1;32m      2\u001b[0m \u001b[0mbest_val_model\u001b[0m \u001b[0;34m=\u001b[0m \u001b[0mcopy\u001b[0m\u001b[0;34m.\u001b[0m\u001b[0mdeepcopy\u001b[0m\u001b[0;34m(\u001b[0m\u001b[0mmodel\u001b[0m\u001b[0;34m.\u001b[0m\u001b[0mstate_dict\u001b[0m\u001b[0;34m(\u001b[0m\u001b[0;34m)\u001b[0m\u001b[0;34m)\u001b[0m\u001b[0;34m\u001b[0m\u001b[0;34m\u001b[0m\u001b[0m\n\u001b[1;32m      3\u001b[0m \u001b[0;32mfor\u001b[0m \u001b[0mn_epoch\u001b[0m \u001b[0;32min\u001b[0m \u001b[0mrange\u001b[0m\u001b[0;34m(\u001b[0m\u001b[0mNEPOCH\u001b[0m\u001b[0;34m)\u001b[0m\u001b[0;34m:\u001b[0m\u001b[0;34m\u001b[0m\u001b[0;34m\u001b[0m\u001b[0m\n\u001b[0;32m----> 4\u001b[0;31m     \u001b[0mmodels\u001b[0m\u001b[0;34m.\u001b[0m\u001b[0mtrain\u001b[0m\u001b[0;34m(\u001b[0m\u001b[0mmodel\u001b[0m\u001b[0;34m,\u001b[0m \u001b[0mtrain_loader\u001b[0m\u001b[0;34m,\u001b[0m \u001b[0mdevice\u001b[0m\u001b[0;34m,\u001b[0m \u001b[0mcriterion\u001b[0m\u001b[0;34m,\u001b[0m \u001b[0moptimizer\u001b[0m\u001b[0;34m,\u001b[0m \u001b[0mTRG\u001b[0m\u001b[0;34m,\u001b[0m \u001b[0mwriter\u001b[0m\u001b[0;34m,\u001b[0m \u001b[0mn_epoch\u001b[0m\u001b[0;34m)\u001b[0m\u001b[0;34m\u001b[0m\u001b[0;34m\u001b[0m\u001b[0m\n\u001b[0m\u001b[1;32m      5\u001b[0m     \u001b[0mval_loss\u001b[0m\u001b[0;34m,\u001b[0m \u001b[0mval_bleu\u001b[0m\u001b[0;34m,\u001b[0m \u001b[0mval_wer\u001b[0m \u001b[0;34m=\u001b[0m \u001b[0mmodels\u001b[0m\u001b[0;34m.\u001b[0m\u001b[0mevaluate\u001b[0m\u001b[0;34m(\u001b[0m\u001b[0mmodel\u001b[0m\u001b[0;34m,\u001b[0m \u001b[0mdev_loader\u001b[0m\u001b[0;34m,\u001b[0m \u001b[0mdevice\u001b[0m\u001b[0;34m,\u001b[0m \u001b[0mcriterion\u001b[0m\u001b[0;34m,\u001b[0m \u001b[0mTRG\u001b[0m\u001b[0;34m)\u001b[0m\u001b[0;34m\u001b[0m\u001b[0;34m\u001b[0m\u001b[0m\n\u001b[1;32m      6\u001b[0m \u001b[0;34m\u001b[0m\u001b[0m\n",
      "\u001b[0;32m~/Code/Sign-Language-Recognition/models.py\u001b[0m in \u001b[0;36mtrain\u001b[0;34m(model, train_loader, device, criterion, optimizer, TRG, writer, n_epoch)\u001b[0m\n\u001b[1;32m    160\u001b[0m         \u001b[0mtargets\u001b[0m \u001b[0;34m=\u001b[0m \u001b[0mtargets\u001b[0m\u001b[0;34m[\u001b[0m\u001b[0;36m1\u001b[0m\u001b[0;34m:\u001b[0m\u001b[0;34m-\u001b[0m\u001b[0;36m1\u001b[0m\u001b[0;34m,\u001b[0m\u001b[0;34m:\u001b[0m\u001b[0;34m]\u001b[0m\u001b[0;34m\u001b[0m\u001b[0;34m\u001b[0m\u001b[0m\n\u001b[1;32m    161\u001b[0m         \u001b[0mloss\u001b[0m \u001b[0;34m=\u001b[0m \u001b[0mcriterion\u001b[0m\u001b[0;34m(\u001b[0m\u001b[0moutputs\u001b[0m\u001b[0;34m.\u001b[0m\u001b[0mview\u001b[0m\u001b[0;34m(\u001b[0m\u001b[0;34m-\u001b[0m\u001b[0;36m1\u001b[0m\u001b[0;34m,\u001b[0m \u001b[0moutputs\u001b[0m\u001b[0;34m.\u001b[0m\u001b[0msize\u001b[0m\u001b[0;34m(\u001b[0m\u001b[0;34m-\u001b[0m\u001b[0;36m1\u001b[0m\u001b[0;34m)\u001b[0m\u001b[0;34m)\u001b[0m\u001b[0;34m,\u001b[0m \u001b[0mtargets\u001b[0m\u001b[0;34m.\u001b[0m\u001b[0mview\u001b[0m\u001b[0;34m(\u001b[0m\u001b[0;34m-\u001b[0m\u001b[0;36m1\u001b[0m\u001b[0;34m)\u001b[0m\u001b[0;34m)\u001b[0m\u001b[0;34m\u001b[0m\u001b[0;34m\u001b[0m\u001b[0m\n\u001b[0;32m--> 162\u001b[0;31m         \u001b[0mloss\u001b[0m\u001b[0;34m.\u001b[0m\u001b[0mbackward\u001b[0m\u001b[0;34m(\u001b[0m\u001b[0;34m)\u001b[0m\u001b[0;34m\u001b[0m\u001b[0;34m\u001b[0m\u001b[0m\n\u001b[0m\u001b[1;32m    163\u001b[0m         \u001b[0moptimizer\u001b[0m\u001b[0;34m.\u001b[0m\u001b[0mstep\u001b[0m\u001b[0;34m(\u001b[0m\u001b[0;34m)\u001b[0m\u001b[0;34m\u001b[0m\u001b[0;34m\u001b[0m\u001b[0m\n\u001b[1;32m    164\u001b[0m \u001b[0;34m\u001b[0m\u001b[0m\n",
      "\u001b[0;32m~/anaconda3/envs/sign/lib/python3.6/site-packages/torch/tensor.py\u001b[0m in \u001b[0;36mbackward\u001b[0;34m(self, gradient, retain_graph, create_graph)\u001b[0m\n\u001b[1;32m    193\u001b[0m                 \u001b[0mproducts\u001b[0m\u001b[0;34m.\u001b[0m \u001b[0mDefaults\u001b[0m \u001b[0mto\u001b[0m\u001b[0;31m \u001b[0m\u001b[0;31m`\u001b[0m\u001b[0;31m`\u001b[0m\u001b[0;32mFalse\u001b[0m\u001b[0;31m`\u001b[0m\u001b[0;31m`\u001b[0m\u001b[0;34m.\u001b[0m\u001b[0;34m\u001b[0m\u001b[0;34m\u001b[0m\u001b[0m\n\u001b[1;32m    194\u001b[0m         \"\"\"\n\u001b[0;32m--> 195\u001b[0;31m         \u001b[0mtorch\u001b[0m\u001b[0;34m.\u001b[0m\u001b[0mautograd\u001b[0m\u001b[0;34m.\u001b[0m\u001b[0mbackward\u001b[0m\u001b[0;34m(\u001b[0m\u001b[0mself\u001b[0m\u001b[0;34m,\u001b[0m \u001b[0mgradient\u001b[0m\u001b[0;34m,\u001b[0m \u001b[0mretain_graph\u001b[0m\u001b[0;34m,\u001b[0m \u001b[0mcreate_graph\u001b[0m\u001b[0;34m)\u001b[0m\u001b[0;34m\u001b[0m\u001b[0;34m\u001b[0m\u001b[0m\n\u001b[0m\u001b[1;32m    196\u001b[0m \u001b[0;34m\u001b[0m\u001b[0m\n\u001b[1;32m    197\u001b[0m     \u001b[0;32mdef\u001b[0m \u001b[0mregister_hook\u001b[0m\u001b[0;34m(\u001b[0m\u001b[0mself\u001b[0m\u001b[0;34m,\u001b[0m \u001b[0mhook\u001b[0m\u001b[0;34m)\u001b[0m\u001b[0;34m:\u001b[0m\u001b[0;34m\u001b[0m\u001b[0;34m\u001b[0m\u001b[0m\n",
      "\u001b[0;32m~/anaconda3/envs/sign/lib/python3.6/site-packages/torch/autograd/__init__.py\u001b[0m in \u001b[0;36mbackward\u001b[0;34m(tensors, grad_tensors, retain_graph, create_graph, grad_variables)\u001b[0m\n\u001b[1;32m     97\u001b[0m     Variable._execution_engine.run_backward(\n\u001b[1;32m     98\u001b[0m         \u001b[0mtensors\u001b[0m\u001b[0;34m,\u001b[0m \u001b[0mgrad_tensors\u001b[0m\u001b[0;34m,\u001b[0m \u001b[0mretain_graph\u001b[0m\u001b[0;34m,\u001b[0m \u001b[0mcreate_graph\u001b[0m\u001b[0;34m,\u001b[0m\u001b[0;34m\u001b[0m\u001b[0;34m\u001b[0m\u001b[0m\n\u001b[0;32m---> 99\u001b[0;31m         allow_unreachable=True)  # allow_unreachable flag\n\u001b[0m\u001b[1;32m    100\u001b[0m \u001b[0;34m\u001b[0m\u001b[0m\n\u001b[1;32m    101\u001b[0m \u001b[0;34m\u001b[0m\u001b[0m\n",
      "\u001b[0;31mKeyboardInterrupt\u001b[0m: "
     ]
    }
   ],
   "source": [
    "best_val_bleu = 0.0\n",
    "best_val_model = copy.deepcopy(model.state_dict())\n",
    "for n_epoch in range(NEPOCH):\n",
    "    models.train(model, train_loader, device, criterion, optimizer, TRG, writer, n_epoch)\n",
    "    val_loss, val_bleu, val_wer = models.evaluate(model, dev_loader, device, criterion, TRG)\n",
    "    print(val_loss, val_bleu, val_wer)\n",
    "    \n",
    "    if val_bleu > best_val_bleu:\n",
    "        best_val_bleu = val_bleu\n",
    "        best_val_model = copy.deepcopy(model.state_dict())\n",
    "        \n",
    "model.load_state_dict(best_val_model)\n",
    "test_loss, test_bleu, test_wer = models.evaluate(model, test_loader, device, criterion, TRG)\n",
    "print(test_loss, test_bleu, test_wer)"
   ]
  },
  {
   "cell_type": "markdown",
   "metadata": {},
   "source": [
    "## Save model"
   ]
  },
  {
   "cell_type": "code",
   "execution_count": 17,
   "metadata": {},
   "outputs": [
    {
     "ename": "SyntaxError",
     "evalue": "unexpected EOF while parsing (<ipython-input-17-d31ae7fefe28>, line 9)",
     "output_type": "error",
     "traceback": [
      "\u001b[0;36m  File \u001b[0;32m\"<ipython-input-17-d31ae7fefe28>\"\u001b[0;36m, line \u001b[0;32m9\u001b[0m\n\u001b[0;31m    # writer.add_text('annotations', str(texts), 0)\u001b[0m\n\u001b[0m                                                   ^\u001b[0m\n\u001b[0;31mSyntaxError\u001b[0m\u001b[0;31m:\u001b[0m unexpected EOF while parsing\n"
     ]
    }
   ],
   "source": [
    "if not os.path.exists('./save'):\n",
    "    os.mkdir(\"save\")\n",
    "dir_name = time.strftime(\"%Y-%m-%d %H:%M:%S\", time.localtime(time.time()))\n",
    "torch.save(model.state_dict(), './save/'+dir_name+'.pth')\n",
    "\n",
    "# # change input shape from [N, C, T, H, W] to [N, T, C, H, W]\n",
    "# videos = batch['videos'].permute(0, 2, 1, 3, 4)\n",
    "# texts = batch['annotations'].permute(1, 0)\n",
    "# texts = [' '.join([TRG.vocab.itos[i] for i in sent]) for sent in texts]\n",
    "# writer.add_video('input', videos, global_step=0, fps=32)\n",
    "# writer.add_text('annotations', str(texts), 0)"
   ]
  }
 ],
 "metadata": {
  "kernelspec": {
   "display_name": "Python [conda env:sign]",
   "language": "python",
   "name": "conda-env-sign-py"
  },
  "language_info": {
   "codemirror_mode": {
    "name": "ipython",
    "version": 3
   },
   "file_extension": ".py",
   "mimetype": "text/x-python",
   "name": "python",
   "nbconvert_exporter": "python",
   "pygments_lexer": "ipython3",
   "version": "3.6.7"
  },
  "toc": {
   "base_numbering": 1,
   "nav_menu": {},
   "number_sections": true,
   "sideBar": true,
   "skip_h1_title": false,
   "title_cell": "Table of Contents",
   "title_sidebar": "Contents",
   "toc_cell": false,
   "toc_position": {},
   "toc_section_display": true,
   "toc_window_display": false
  }
 },
 "nbformat": 4,
 "nbformat_minor": 2
}
